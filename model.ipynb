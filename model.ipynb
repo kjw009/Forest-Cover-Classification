{
 "cells": [
  {
   "cell_type": "markdown",
   "metadata": {},
   "source": [
    "# Data Preprocessing"
   ]
  },
  {
   "cell_type": "code",
   "execution_count": 339,
   "metadata": {},
   "outputs": [],
   "source": [
    "# Data handling\n",
    "import numpy as np\n",
    "import pandas as pd\n",
    "\n",
    "# Data visualisation\n",
    "import matplotlib.pyplot as plt\n",
    "import seaborn as sns\n",
    "\n",
    "# Machine Learning\n",
    "from sklearn.model_selection import train_test_split\n",
    "from sklearn.preprocessing import StandardScaler\n",
    "import tensorflow as tf\n",
    "import keras_tuner as kt\n",
    "\n",
    "# Machine learning metrics\n",
    "from sklearn.metrics import confusion_matrix\n",
    "from sklearn.metrics import classification_report"
   ]
  },
  {
   "cell_type": "code",
   "execution_count": 340,
   "metadata": {},
   "outputs": [],
   "source": [
    "# Data pipeline\n",
    "def process_data(df):\n",
    "    \"\"\"\n",
    "    Prepare data that can be readily consumed by ML/DL algorithms.\n",
    "    - remove elevation outliers for Spruce/Fir and Lodgepole Pine\n",
    "    - separate features from class variables\n",
    "    - split into training and testing dataset\n",
    "    - scale numerical data\n",
    "    \n",
    "    param: a dataframe of input data\n",
    "    output: X_train_normalized, X_test_normalized, y_train, y_test\n",
    "    \"\"\"\n",
    "    # Remove elevation outliers for Spruce/Fir\n",
    "    df_drop_outliers = df.drop(df[(df['class'] == 1) & (df['Elevation'] < 2730) | (df['Elevation'] > 3538)].index)\n",
    "    # Remove elevation outliers for Lodgepole Pine\n",
    "    df_drop_outliers = df.drop(df[(df['class'] == 2) & (df['Elevation'] < 2422) | (df['Elevation'] > 3414.0)].index)\n",
    "\n",
    "    # Split data into features and labels\n",
    "    df_features = df_drop_outliers.iloc[:, :-1]\n",
    "    # We subract 1 from every class value to include 0 as a label for the softmax\n",
    "    df_labels = df_drop_outliers['class'] \n",
    "\n",
    "    # Split into train and test set\n",
    "    X_train, X_test, y_train, y_test = train_test_split(df_features, df_labels, test_size=0.2, stratify=df_labels)\n",
    "\n",
    "    # Normalise data\n",
    "    scaler = StandardScaler()\n",
    "    X_train_normalized = scaler.fit_transform(X_train)\n",
    "    X_test_normalized = scaler.transform(X_test)\n",
    "\n",
    "    return X_train_normalized, X_test_normalized, y_train, y_test"
   ]
  },
  {
   "cell_type": "code",
   "execution_count": 341,
   "metadata": {},
   "outputs": [],
   "source": [
    "# ML pipeline\n",
    "def build_model(features):\n",
    "    \"\"\"\n",
    "    Build the model architecture (and compile it).\n",
    "    input: number of features\n",
    "    output: Keras model object.\n",
    "    \"\"\"    \n",
    "    model = tf.keras.Sequential()\n",
    "    model.add(tf.keras.Input(shape=(features.shape[1])))\n",
    "    model.add(tf.keras.layers.Dense(256, activation='relu'))\n",
    "    model.add(tf.keras.layers.Dropout(0.15))\n",
    "    model.add(tf.keras.layers.Dense(64, activation='relu'))\n",
    "    model.add(tf.keras.layers.Dropout(0.1))\n",
    "    model.add(tf.keras.layers.Dense(16, activation='relu'))\n",
    "    model.add(tf.keras.layers.Dropout(0.05))\n",
    "    model.add(tf.keras.layers.Dense(8, activation='softmax'))\n",
    "\n",
    "    model.compile(optimizer=tf.keras.optimizers.Adam(0.001), loss='sparse_categorical_crossentropy', metrics=['accuracy'])\n",
    "\n",
    "    print(\"Summary report of Keras classifier:\")\n",
    "    model.summary()\n",
    "\n",
    "    return model"
   ]
  },
  {
   "cell_type": "code",
   "execution_count": 342,
   "metadata": {},
   "outputs": [],
   "source": [
    "def main():\n",
    "    # Read csv\n",
    "    filename = 'cover_data.csv'\n",
    "    print(f\"Reading {filename}\")\n",
    "    df = pd.read_csv(filename)\n",
    "\n",
    "    # Process data\n",
    "    X_train, X_test, y_train, y_test = process_data(df)\n",
    "\n",
    "    # Build Deep Learning Model\n",
    "    model = build_model(X_train)\n",
    "\n",
    "    # Set params\n",
    "    num_epochs = 100\n",
    "    batch_size = 1024\n",
    "    es = tf.keras.callbacks.EarlyStopping(monitor='val_accuracy', min_delta=0.001, patience=5)\n",
    "    \n",
    "    # Build model\n",
    "    history = model.fit(X_train,\n",
    "                        y_train,\n",
    "                        epochs=num_epochs, \n",
    "                        batch_size=batch_size, \n",
    "                        callbacks=[es], \n",
    "                        validation_split=0.1, \n",
    "                        verbose=1)\n",
    "\n",
    "    # Evaluate model\n",
    "    score = model.evaluate(X_test, y_test, verbose=0)\n",
    "    print(f\"Test loss: {score[0]}\")\n",
    "    print(f\"Test accuracy: {score[1]}\")\n",
    "\n",
    "    y_pred = model.predict(X_test)\n",
    "\n",
    "    # Convert predictions to discrete values\n",
    "    y_pred = np.argmax(y_pred, axis=1)\n",
    "    class_names = ['Spruce/Fir', 'Lodgepole Pine',\n",
    "                   'Ponderosa Pine', 'Cottonwood/Willow',\n",
    "                   'Aspen', 'Douglas-fir', 'Krummholz']\n",
    "    print(classification_report(y_test, y_pred, target_names=class_names))    "
   ]
  },
  {
   "cell_type": "code",
   "execution_count": 343,
   "metadata": {},
   "outputs": [
    {
     "name": "stdout",
     "output_type": "stream",
     "text": [
      "Reading cover_data.csv\n",
      "Summary report of Keras classifier:\n",
      "Model: \"sequential_1\"\n",
      "_________________________________________________________________\n",
      " Layer (type)                Output Shape              Param #   \n",
      "=================================================================\n",
      " dense_4 (Dense)             (None, 256)               14080     \n",
      "                                                                 \n",
      " dropout_3 (Dropout)         (None, 256)               0         \n",
      "                                                                 \n",
      " dense_5 (Dense)             (None, 64)                16448     \n",
      "                                                                 \n",
      " dropout_4 (Dropout)         (None, 64)                0         \n",
      "                                                                 \n",
      " dense_6 (Dense)             (None, 16)                1040      \n",
      "                                                                 \n",
      " dropout_5 (Dropout)         (None, 16)                0         \n",
      "                                                                 \n",
      " dense_7 (Dense)             (None, 8)                 136       \n",
      "                                                                 \n",
      "=================================================================\n",
      "Total params: 31,704\n",
      "Trainable params: 31,704\n",
      "Non-trainable params: 0\n",
      "_________________________________________________________________\n",
      "Epoch 1/100\n",
      "402/402 [==============================] - 5s 10ms/step - loss: 0.7262 - accuracy: 0.6978 - val_loss: 0.5749 - val_accuracy: 0.7538\n",
      "Epoch 2/100\n",
      "402/402 [==============================] - 4s 10ms/step - loss: 0.5874 - accuracy: 0.7490 - val_loss: 0.5185 - val_accuracy: 0.7757\n",
      "Epoch 3/100\n",
      "402/402 [==============================] - 4s 10ms/step - loss: 0.5430 - accuracy: 0.7670 - val_loss: 0.4788 - val_accuracy: 0.7898\n",
      "Epoch 4/100\n",
      "402/402 [==============================] - 5s 12ms/step - loss: 0.5118 - accuracy: 0.7796 - val_loss: 0.4522 - val_accuracy: 0.8058\n",
      "Epoch 5/100\n",
      "399/402 [============================>.] - ETA: 0s - loss: 0.4888 - accuracy: 0.7899"
     ]
    }
   ],
   "source": [
    "if __name__ == '__main__':\n",
    "    main()"
   ]
  }
 ],
 "metadata": {
  "kernelspec": {
   "display_name": "Python 3.10.7 64-bit",
   "language": "python",
   "name": "python3"
  },
  "language_info": {
   "codemirror_mode": {
    "name": "ipython",
    "version": 3
   },
   "file_extension": ".py",
   "mimetype": "text/x-python",
   "name": "python",
   "nbconvert_exporter": "python",
   "pygments_lexer": "ipython3",
   "version": "3.10.7"
  },
  "orig_nbformat": 4,
  "vscode": {
   "interpreter": {
    "hash": "06d3ad103a38a5e5980b0a2ddf222334b9b3630c94a7e75a8e45e8afe280f469"
   }
  }
 },
 "nbformat": 4,
 "nbformat_minor": 2
}
